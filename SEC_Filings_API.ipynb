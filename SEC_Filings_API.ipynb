{
 "cells": [
  {
   "cell_type": "markdown",
   "metadata": {},
   "source": [
    "Libraries"
   ]
  },
  {
   "cell_type": "code",
   "execution_count": 3,
   "metadata": {},
   "outputs": [],
   "source": [
    "import os\n",
    "import json\n",
    "import requests\n",
    "from datetime import datetime\n",
    "from ratelimit import limits, sleep_and_retry\n",
    "from bs4 import BeautifulSoup\n",
    "from tqdm import tqdm\n",
    "from concurrent.futures import ThreadPoolExecutor, as_completed"
   ]
  },
  {
   "cell_type": "markdown",
   "metadata": {},
   "source": [
    "SIC Code Map"
   ]
  },
  {
   "cell_type": "code",
   "execution_count": 4,
   "metadata": {},
   "outputs": [],
   "source": [
    "def get_sic_list():\n",
    "    url = 'https://www.sec.gov/corpfin/division-of-corporation-finance-standard-industrial-classification-sic-code-list'\n",
    "    response = requests.get(url, headers = {'User-Agent': 'Simeon Kolev simeon_kolev@outlook.com'})\n",
    "    table = BeautifulSoup(response.content, 'html.parser').find('table').find_all('tr')[1:]\n",
    "    sic_map = {}\n",
    "    for row in table:\n",
    "        cells = row.find_all('td')\n",
    "        sic_map[cells[0].text] = {'office': cells[1].text, 'industry': cells[2].text}\n",
    "    return sic_map\n",
    "\n",
    "sic_list = get_sic_list()"
   ]
  },
  {
   "cell_type": "markdown",
   "metadata": {},
   "source": [
    "Existing CIKs"
   ]
  },
  {
   "cell_type": "code",
   "execution_count": 6,
   "metadata": {},
   "outputs": [],
   "source": [
    "def get_cik_list():\n",
    "    url = f'https://www.sec.gov/files/company_tickers_exchange.json'\n",
    "    js = requests.get(url, headers={'User-Agent': 'Simeon Kolev simeon_kolev@outlook.com'}).json()\n",
    "    cik_list = []\n",
    "    for entry in js.get('data'):\n",
    "        cik_list.append(str(entry[0]))\n",
    "    return cik_list\n",
    "\n",
    "cik_list = get_cik_list()"
   ]
  },
  {
   "cell_type": "markdown",
   "metadata": {},
   "source": [
    "### Labels & Descriptions\n",
    "#### Uses API to extract labels and descriptions of accounting metrics, run time ~ 1 hour\n",
    "##### Code run schedule ~ annually"
   ]
  },
  {
   "cell_type": "code",
   "execution_count": 8,
   "metadata": {},
   "outputs": [
    {
     "name": "stderr",
     "output_type": "stream",
     "text": [
      "Processing:   1%|          | 60/10188 [00:31<1:43:34,  1.63URL/s]"
     ]
    }
   ],
   "source": [
    "def get_labels_descriptions(cik_list):\n",
    "    labels_descriptions = {}\n",
    "    with tqdm(total=len(cik_list), desc='Processing', unit='URL') as pbar:\n",
    "        for cik in cik_list:\n",
    "            try:\n",
    "                url = f'https://data.sec.gov/api/xbrl/companyfacts/CIK{cik.zfill(10)}.json'\n",
    "                js = (requests.get(url, headers={'User-Agent': 'Simeon Kolev simeon_kolev@outlook.com'})).json()\n",
    "                for accounting in js.get('facts'):\n",
    "                    for metric in js.get('facts').get(accounting):\n",
    "                        labels_descriptions.update({js.get('facts').get(accounting).get(metric).get('label'): js.get('facts').get(accounting).get(metric).get('description')})\n",
    "            except:\n",
    "                pass\n",
    "            pbar.update(1)\n",
    "    return labels_descriptions\n",
    "\n",
    "labels_descriptions = get_labels_descriptions(cik_list)"
   ]
  },
  {
   "cell_type": "code",
   "execution_count": null,
   "metadata": {},
   "outputs": [],
   "source": [
    "RATE_LIMIT = 10\n",
    "ONE_SECOND = 1\n",
    "\n",
    "@sleep_and_retry\n",
    "@limits(calls=RATE_LIMIT, period=ONE_SECOND)\n",
    "\n",
    "def get_labels_descriptions(cik_list):\n",
    "    labels_descriptions = {}\n",
    "    def fetch_labels_descriptions(cik):\n",
    "        try:\n",
    "            url = f'https://data.sec.gov/api/xbrl/companyfacts/CIK{cik.zfill(10)}.json'\n",
    "            js = (requests.get(url, headers={'User-Agent': 'Simeon Kolev simeon_kolev@outlook.com'})).json()\n",
    "            for accounting in js.get('facts'):\n",
    "                for metric in js.get('facts').get(accounting):\n",
    "                    labels_descriptions.update({js.get('facts').get(accounting).get(metric).get('label'): js.get('facts').get(accounting).get(metric).get('description')})\n",
    "        except:\n",
    "            pass\n",
    "\n",
    "    with ThreadPoolExecutor(max_workers=4) as executor:\n",
    "        futures = {executor.submit(fetch_labels_descriptions, cik): cik for cik in cik_list}\n",
    "        for future in tqdm(as_completed(futures), total=len(futures), desc='Processing', unit='URL'):\n",
    "            future.result()\n",
    "\n",
    "    return labels_descriptions\n",
    "\n",
    "labels_descriptions = get_labels_descriptions(cik_list)"
   ]
  },
  {
   "cell_type": "markdown",
   "metadata": {},
   "source": [
    "### Submissions by CIK\n",
    "#### Uses SEC API to extract descriptive values for the company, run time ~ 35 minutes\n",
    "##### Code run schedule ~ quarterly"
   ]
  },
  {
   "cell_type": "code",
   "execution_count": null,
   "metadata": {},
   "outputs": [],
   "source": [
    "def get_cik_information(cik_list, sic_list):\n",
    "    with tqdm(total=len(cik_list), desc='Processing', unit='URL') as pbar:\n",
    "        filings = {}\n",
    "        for cik in cik_list:\n",
    "            try:\n",
    "                url = f'https://data.sec.gov/submissions/CIK{cik.zfill(10)}.json'\n",
    "                js = (requests.get(url, headers={'User-Agent': 'Simeon Kolev simeon_kolev@outlook.com'})).json()\n",
    "                sic = js.get('sic')\n",
    "                addresses = js.get('addresses').get('business')\n",
    "                filings[cik] = {\n",
    "                    'name': (js.get('name')).upper(),\n",
    "                    'ticker': js.get('tickers')[0],\n",
    "                    'exchange': (js.get('exchanges')[0]).upper(),\n",
    "                    'sic': sic,\n",
    "                    'office': sic_list[sic].get('office'),\n",
    "                    'industry': sic_list[sic].get('industry'),\n",
    "                    'ein':  js.get('ein'),\n",
    "                    'category': js.get('category'),\n",
    "                    'tax_state': js.get('stateOfIncorporation'),\n",
    "                    'fiscal_year_end': js.get('fiscalYearEnd')}\n",
    "                    #'business_address': addresses.get('street1') + ',' + addresses.get('city') + ',' + addresses.get('stateOrCountry') + addresses.get('zipCode')}\n",
    "            except:\n",
    "                pass\n",
    "            pbar.update(1)\n",
    "    return filings\n",
    "\n",
    "cik_information = get_cik_information(cik_list, sic_list)"
   ]
  },
  {
   "cell_type": "code",
   "execution_count": null,
   "metadata": {},
   "outputs": [],
   "source": [
    "def get_cik_information(cik_list, sic_list):\n",
    "    filings = {}\n",
    "    def fetch_cik_data(cik):\n",
    "        try:\n",
    "            url = f'https://data.sec.gov/submissions/CIK{cik.zfill(10)}.json'\n",
    "            js = (requests.get(url, headers={'User-Agent': 'Simeon Kolev simeon_kolev@outlook.com'})).json()\n",
    "            sic = js.get('sic')\n",
    "            #business = js.get('addresses').get('business')\n",
    "            #mailing = js.get('addresses').get('mailing')\n",
    "            filings[cik] = {\n",
    "                'name': js.get('name').upper(),\n",
    "                'ticker': js.get('tickers')[0],\n",
    "                'exchange': js.get('exchanges')[0].upper(),\n",
    "                'sic': sic,\n",
    "                'office': sic_list.get(sic).get('office'),\n",
    "                'industry': sic_list.get(sic).get('industry'),\n",
    "                'ein': js.get('ein'),\n",
    "                'category': js.get('category'),\n",
    "                'tax_state': js.get('stateOfIncorporation'),\n",
    "                'fiscal_year_end': js.get('fiscalYearEnd') #,\n",
    "                #'business_address': business.get('street1') + ', ' + business.get('street2') + ', ' + business.get('city') + ', ' + business.get('stateOrCountry') + ' ' + business.get('zipCode'),\n",
    "                #'mailing_address': mailing.get('street1') + ', ' + mailing.get('street2') + ', ' + mailing.get('city') + ', ' + mailing.get('stateOrCountry') + ' ' + mailing.get('zipCode')\n",
    "            }\n",
    "        except Exception as e:\n",
    "            print(f\"Error fetching data for CIK {cik}: {e}\")\n",
    "\n",
    "    with ThreadPoolExecutor(max_workers=1) as executor:\n",
    "        futures = {executor.submit(fetch_cik_data, cik): cik for cik in cik_list}\n",
    "        for future in tqdm(as_completed(futures), total=len(futures), desc='Processing', unit='URL'):\n",
    "            future.result()\n",
    "\n",
    "    return filings\n",
    "\n",
    "cik_information = get_cik_information(cik_list, sic_list)"
   ]
  },
  {
   "cell_type": "markdown",
   "metadata": {},
   "source": [
    "### Company Facts by CIK\n",
    "#### Uses bulk data folder to extract accounting metrics by cik, run time ~ XX minutes\n",
    "##### Code run schedule ~ quarterly\n",
    "##### Update Company Facts folder ~ quarterly"
   ]
  },
  {
   "cell_type": "code",
   "execution_count": null,
   "metadata": {},
   "outputs": [],
   "source": [
    "# This code requires the bulk data content form the companyfacts zip file to be extracted \n",
    "def folder_companyfacts(folder_path):\n",
    "    filings_database = {}\n",
    "    files = os.listdir(folder_path)\n",
    "    with tqdm(total=len(files), desc='Processing Files', unit='file') as pbar:\n",
    "        for file_name in files:\n",
    "            try:\n",
    "                js = json.load(open(os.path.join(folder_path, file_name), 'r'))\n",
    "                filings = {}\n",
    "                for accounting in js.get('facts'):\n",
    "                    for metric in js.get('facts').get(accounting):\n",
    "                        filings[metric] = next(iter((js.get('facts').get(accounting).get(metric).get('units')).values()))\n",
    "            except:\n",
    "                pass\n",
    "            filings_database[str(js.get('cik'))] = filings\n",
    "            pbar.update(1)\n",
    "    return filings_database\n",
    "#company_facts = folder_companyfacts(\"C:\\EDGAR\\companyfacts\")\n",
    "\n",
    "# This code requires the correct URL to access each CIK's SEC filings\n",
    "def api_company_facts(cik_list):\n",
    "    company_facts = {}\n",
    "    with tqdm(total=len(cik_list), desc='Processing', unit='URL') as pbar:\n",
    "        for cik in cik_list:\n",
    "            try:\n",
    "                url = f'https://data.sec.gov/api/xbrl/companyfacts/CIK{cik.zfill(10)}.json'\n",
    "                js = (requests.get(url, headers={'User-Agent': 'Simeon Kolev simeon_kolev@outlook.com'})).json()\n",
    "                filings = {}\n",
    "                for accounting in js.get('facts'):\n",
    "                    for metric in js.get('facts').get(accounting):\n",
    "                        filings[metric] = next(iter((js.get('facts').get(accounting).get(metric).get('units')).values()))\n",
    "            except:\n",
    "                pass\n",
    "            company_facts[cik] = filings\n",
    "            pbar.update(1)\n",
    "    return company_facts\n",
    "\n",
    "company_facts = api_company_facts(cik_list)"
   ]
  },
  {
   "cell_type": "code",
   "execution_count": null,
   "metadata": {},
   "outputs": [],
   "source": [
    "def api_company_facts(cik_list):\n",
    "    company_facts = {}\n",
    "\n",
    "    def fetch_company_facts(cik):\n",
    "        filings = {}\n",
    "        try:\n",
    "            url = f'https://data.sec.gov/api/xbrl/companyfacts/CIK{cik.zfill(10)}.json'\n",
    "            js = requests.get(url, headers={'User-Agent': 'Simeon Kolev simeon_kolev@outlook.com'}).json()\n",
    "            for accounting in js.get('facts', {}):\n",
    "                for metric in js.get('facts').get(accounting, {}):\n",
    "                    units = js.get('facts').get(accounting).get(metric).get('units', {})\n",
    "                    if units:\n",
    "                        filings[metric] = next(iter(units.values()))\n",
    "        except Exception as e:\n",
    "            print(f\"Error fetching data for CIK {cik}: {e}\")\n",
    "        return cik, filings\n",
    "\n",
    "    with ThreadPoolExecutor(max_workers=10) as executor:\n",
    "        futures = {executor.submit(fetch_company_facts, cik): cik for cik in cik_list}\n",
    "        for future in tqdm(as_completed(futures), total=len(futures), desc='Processing', unit='URL'):\n",
    "            cik, filings = future.result()\n",
    "            company_facts[cik] = filings\n",
    "\n",
    "    return company_facts\n",
    "\n",
    "company_facts = api_company_facts(cik_list)"
   ]
  },
  {
   "cell_type": "markdown",
   "metadata": {},
   "source": [
    "### Update Company Facts\n",
    "#### Uses SEC Daily-Index to check CIKs requiring updates, run time ~ 1 second\n",
    "##### Code run schedule ~ daily\n",
    "##### Update URL with FY & FP ~ annually, quarterly"
   ]
  },
  {
   "cell_type": "code",
   "execution_count": null,
   "metadata": {},
   "outputs": [],
   "source": [
    "def update_filings():\n",
    "    today = datetime.today()\n",
    "    date = today.strftime('%Y%m%d')\n",
    "    try:\n",
    "        url = f'https://www.sec.gov/Archives/edgar/daily-index/2024/QTR2/master.{date}.idx'\n",
    "        idx = (requests.get(url, headers={'User-Agent': 'Simeon Kolev simeon_kolev@outlook.com'})).text\n",
    "        content = idx.split('\\n')[7:]\n",
    "        sets = set()\n",
    "        desired_forms = ['10-Q', '10-K']\n",
    "        for entry in content:\n",
    "            data = entry.split('|')\n",
    "            cik, form = data[0], data[2]\n",
    "            if form in desired_forms:\n",
    "                sets.add(str(cik))\n",
    "    except:\n",
    "        pass\n",
    "    return sets\n",
    "\n",
    "update_filings()"
   ]
  },
  {
   "cell_type": "markdown",
   "metadata": {},
   "source": [
    "Writing to JSON "
   ]
  },
  {
   "cell_type": "code",
   "execution_count": null,
   "metadata": {},
   "outputs": [],
   "source": [
    "with open(os.path.join('C:\\EDGAR', 'sic_list.json'), 'w') as file:\n",
    "    json.dump(sic_list, file, indent=0)\n",
    "\n",
    "with open(os.path.join('C:\\EDGAR', 'cik_information.json'), 'w') as file:\n",
    "    json.dump(cik_information, file, indent=0)\n",
    "\n",
    "with open(os.path.join('C:\\EDGAR', 'labels_descriptions.json'), 'w') as file:\n",
    "    json.dump(labels_descriptions, file, indent=0)\n",
    "\n",
    "# with open(os.path.join('C:\\EDGAR', 'company_facts.json'), 'w') as file:\n",
    "#     json.dump(company_facts, file, indent=0)"
   ]
  },
  {
   "cell_type": "markdown",
   "metadata": {},
   "source": [
    "### Form 4 Filings by CIK\n",
    "#### Uses SEC Full-Index to import submisions for each existing CIK, run time ~ XXX\n",
    "##### Code run schedule ~ once\n",
    "##### However, requires a dialy update to avoid redundant computations"
   ]
  },
  {
   "cell_type": "code",
   "execution_count": null,
   "metadata": {},
   "outputs": [],
   "source": [
    "def get_form_4_directories():\n",
    "    list = []\n",
    "    current_year = datetime.now().year\n",
    "    for year in range(2024, current_year + 1):\n",
    "        for quarter in ['QTR2']:\n",
    "            try:\n",
    "                url = f'https://www.sec.gov/Archives/edgar/full-index/{year}/{quarter}/master.idx'\n",
    "                idx = (requests.get(url, headers={'User-Agent': 'Simeon Kolev simeon_kolev@outlook.com'})).text\n",
    "                content = idx.split('\\n')[11:]\n",
    "                for entry in content:\n",
    "                    data =  entry.split('|')\n",
    "                    if data[2] == '4':\n",
    "                        list.append(data[4])\n",
    "            except:\n",
    "                pass\n",
    "    return list\n",
    "\n",
    "form_4_directories = get_form_4_directories()"
   ]
  },
  {
   "cell_type": "code",
   "execution_count": null,
   "metadata": {},
   "outputs": [],
   "source": [
    "cik_inside_trades = {cik: {} for cik in cik_list}\n",
    "\n",
    "def true_false(value):\n",
    "    return value == '1' or value.lower() == 'true'\n",
    "\n",
    "def get_form_4_submissions(directory):\n",
    "    try:\n",
    "        url = f'https://www.sec.gov/Archives/{directory}'\n",
    "        content = BeautifulSoup(requests.get(url, headers={'User-Agent': 'Simeon Kolev simeon_kolev@outlook.com'}).text, 'xml')\n",
    "\n",
    "        issuer_cik = content.find('issuerCik').text.lstrip('0')\n",
    "        owner_cik = content.find('rptOwnerCik').text.lstrip('0')\n",
    "\n",
    "        if issuer_cik not in cik_inside_trades:\n",
    "            return\n",
    "        if owner_cik not in cik_inside_trades[issuer_cik]:\n",
    "            cik_inside_trades[issuer_cik][owner_cik] = {\n",
    "                'reporting': [],\n",
    "                'non_derivative_transactions': [],\n",
    "                'non_derivative_holdings': [], \n",
    "                'derivative_holdings': [],\n",
    "                'underlying_securities': [],\n",
    "                'securities': []}\n",
    "            \n",
    "        cik_inside_trades[issuer_cik][owner_cik]['reporting'].append({\n",
    "            'date': content.find('periodOfReport').text\n",
    "            'name': content.find('rptOwnerName').text,\n",
    "            'officer': true_false(content.find('isOfficer').text),\n",
    "            'title': true_false(content.find('officerTitle').text),\n",
    "            'director': true_false(content.find('isDirector').text),\n",
    "            '10% owner': true_false(content.find('isTenPercentOwner').text),\n",
    "            'other': content.find('isOther').text,\n",
    "            'aff': content.find('aff10b5One').text})\n",
    "\n",
    "        for entry in content.find_all('nonDerivativeTransaction'):\n",
    "            cik_inside_trades[issuer_cik][owner_cik]['non_derivative_transactions'].append({\n",
    "                'date': entry.find('transactionDate').find('value').text,\n",
    "                'security': entry.find('securityTitle').find('value').text,\n",
    "                'transaction': entry.find('transactionCode').text,\n",
    "                'shares': entry.find('transactionShares').find('value').text,\n",
    "                'price': entry.find('transactionPricePerShare').find('value').text,\n",
    "                'shares_owned': entry.find('sharesOwnedFollowingTransaction').find('value').text,\n",
    "                'ownership': entry.find('directOrIndirectOwnership').find('value').text,\n",
    "                'ownership_nature': entry.find('natureOfOwnership').find('value').text,\n",
    "                'code': entry.find('transactionAcquiredDisposedCode').find('value').text,\n",
    "                'equity_swap': entry.find('equitySwapInvolved').text})\n",
    "\n",
    "        for entry in content.find_all('nonDerivativeHolding'):\n",
    "            cik_inside_trades[issuer_cik][owner_cik]['non_derivative_holdings'].append({\n",
    "                'security': entry.find('securityTitle').find('value').text,\n",
    "                'shares_owned': entry.find('sharesOwnedFollowingTransaction').find('value').text,\n",
    "                'ownership': entry.find('directOrIndirectOwnership').find('value').text})\n",
    "\n",
    "        for entry in content.find_all('derivativeHolding'):\n",
    "            cik_inside_trades[issuer_cik][owner_cik]['derivative_holdings'].append({\n",
    "                'date': entry.find('exerciseDate').text,\n",
    "                'security': entry.find('securityTitle').find('value').text,\n",
    "                'price': entry.find('conversionOrExercisePrice').find('value').text,\n",
    "                'expiration_date': entry.find('expirationDate').text})\n",
    "\n",
    "        for entry in content.find_all('underlyingSecurity'):\n",
    "            cik_inside_trades[issuer_cik][owner_cik]['underlying_securities'].append({\n",
    "                'security': entry.find('underlyingSecurityTitle').find('value').text,\n",
    "                'shares': entry.find('underlyingSecurityShares').find('value').text,\n",
    "                'shares_owned': entry.find('sharesOwnedFollowingTransaction').find('value').text,\n",
    "                'ownership': entry.find('directOrIndirectOwnership').find('value').text})\n",
    "\n",
    "        for entry in content.find_all('sellerDetails'):\n",
    "            cik_inside_trades[issuer_cik][owner_cik]['securities'].append({\n",
    "                'date': entry.find('saleDate').find('value').text,\n",
    "                'security': entry.find('securitiesClassTitle').find('value').text,\n",
    "                'amount_sold': entry.find('amountOfSecuritiesSold').find('value').text,\n",
    "                'gross_proceeds': entry.find('grossProceeds').find('value').text,\n",
    "                'sold_past_3_months': entry.find('securitiesSoldInPast3Months').find('value').text})\n",
    "\n",
    "    except Exception as e:\n",
    "        print(f\"Error processing {directory}: {e}\")\n",
    "\n",
    "with ThreadPoolExecutor(max_workers=10) as executor:\n",
    "    futures = [executor.submit(get_form_4_submissions, directory) for directory in form_4_directories]\n",
    "    for future in tqdm(as_completed(futures), total=len(futures), desc='Processing', unit='URL'):\n",
    "        future.result()"
   ]
  }
 ],
 "metadata": {
  "kernelspec": {
   "display_name": "Python 3",
   "language": "python",
   "name": "python3"
  },
  "language_info": {
   "codemirror_mode": {
    "name": "ipython",
    "version": 3
   },
   "file_extension": ".py",
   "mimetype": "text/x-python",
   "name": "python",
   "nbconvert_exporter": "python",
   "pygments_lexer": "ipython3",
   "version": "3.12.5"
  }
 },
 "nbformat": 4,
 "nbformat_minor": 2
}
