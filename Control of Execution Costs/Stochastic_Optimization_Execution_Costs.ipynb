{
 "cells": [
  {
   "cell_type": "code",
   "execution_count": null,
   "metadata": {},
   "outputs": [],
   "source": [
    "import random\n",
    "import numpy as np\n",
    "import pandas as pd\n",
    "from numpy import linalg as la\n",
    "import matplotlib.pyplot as plt"
   ]
  },
  {
   "cell_type": "markdown",
   "metadata": {},
   "source": [
    "SGD Strategy Output"
   ]
  },
  {
   "cell_type": "code",
   "execution_count": null,
   "metadata": {},
   "outputs": [],
   "source": [
    "def results(B):\n",
    "    # Calculating SGD Costs\n",
    "    P = np.zeros(T); X = np.zeros(T)\n",
    "    A = np.zeros(T)\n",
    "    P[0] = 50; X[0] = 0\n",
    "    A[0] = 0\n",
    "    for t in range(1, T):\n",
    "        X[t] = rho*X[t-1] + N[t]\n",
    "        P[t] = P[t-1] + theta*B[t] + gamma*X[t] + E[t]\n",
    "        A[t] = A[t-1] + P[t]*B[t]\n",
    "\n",
    "    execution_cost = np.sum(P*B)\n",
    "    total_shares = np.sum(B)\n",
    "    \n",
    "    return([B, X, execution_cost, total_shares])"
   ]
  },
  {
   "cell_type": "markdown",
   "metadata": {},
   "source": [
    "Optimal Strategy"
   ]
  },
  {
   "cell_type": "code",
   "execution_count": null,
   "metadata": {},
   "outputs": [],
   "source": [
    "def Optimum():\n",
    "    # Initialize Arrays\n",
    "    P = np.zeros(T); X = np.zeros(T)\n",
    "    S = np.zeros(T); B = np.zeros(T)\n",
    "    A = np.zeros(T)\n",
    "    a = np.zeros(T-1); b = np.zeros(T-1); c = np.zeros(T-1)\n",
    "    d = np.zeros(T-1); e = np.zeros(T-1); f = np.zeros(T-1)\n",
    "\n",
    "    # Initial Values\n",
    "    P[0] = 50; X[0] = 0\n",
    "    S[0] = 100000; B[0] = 0\n",
    "    A[0] = 0\n",
    "    a[0] = theta; b[0] = gamma; c[0] = 0\n",
    "    d[0] = 0; e[0] = 1; f[0] = 0\n",
    "\n",
    "    # Calculating Parameters\n",
    "    for i in range(1, T-1):\n",
    "        a[i] = (theta*(i+2))/(2*(i+1))\n",
    "        b[i] = gamma + (theta*rho*b[i-1])/(2*a[i-1])\n",
    "        c[i] = (rho**2)*c[i-1] - ((rho**2)*(b[i-1]**2))/(4*a[i-1])\n",
    "        d[i] = d[i-1] + c[i-1]*(0.001)\n",
    "        e[i] = (1/(i+1))\n",
    "        f[i] = (rho*b[i-1])/(2*a[i-1])\n",
    "\n",
    "    # Calculating Optimal Costs\n",
    "    for i in range(1, T):\n",
    "        B[i] = e[T-i-1]*S[i-1] + f[T-i-1]*X[i-1]\n",
    "        S[i] = S[i-1] - B[i]\n",
    "        X[i] = rho*X[i-1] + N[i]\n",
    "        P[i] = P[i-1] + theta*B[i] + gamma*X[i] + E[i]\n",
    "        A[i] = A[i-1] + P[i]*B[i]\n",
    "    return(B)"
   ]
  },
  {
   "cell_type": "code",
   "execution_count": null,
   "metadata": {},
   "outputs": [],
   "source": [
    "# Initializing B with Constraint sum(B) = 100,000\n",
    "T = 21\n",
    "rv = np.random.normal(5000, 1000, T-1)\n",
    "initial_B = np.insert(rv/np.sum(rv)*100000, 0, 0)\n",
    "\n",
    "# Initializng White Noise\n",
    "E = 0.125*np.random.normal(0, 0.125, T)\n",
    "N =  0.125*np.random.normal(0, np.sqrt(0.001), T)\n",
    "# Initializing Model Parameters\n",
    "theta = 0.00005; gamma = 5; rho = 0.5\n",
    "\n",
    "# Optimum\n",
    "optimal_B = Optimum()\n",
    "Optimum_results = results(optimal_B)"
   ]
  },
  {
   "cell_type": "code",
   "execution_count": null,
   "metadata": {},
   "outputs": [],
   "source": [
    "print(\"Optimal Strategy\")\n",
    "print(\"Strategy Execution Costs\", Optimum_results[2])\n",
    "print(\"Standard Deviation per Period\", np.std(Optimum_results[0])/20)"
   ]
  },
  {
   "cell_type": "markdown",
   "metadata": {},
   "source": [
    "AdaGrad SGD"
   ]
  },
  {
   "cell_type": "code",
   "execution_count": null,
   "metadata": {},
   "outputs": [],
   "source": [
    "def AdaGrad_SGD(B, learning_rate=0.025, num_iterations=10000, tol=1e-5):\n",
    "    for i in range(1, T):\n",
    "          eta = learning_rate\n",
    "          G = np.zeros_like(B)\n",
    "          res = np.zeros(num_iterations)\n",
    "          for j in range(0, num_iterations):\n",
    "            P = np.zeros(T); X = np.zeros(T)\n",
    "            P[0] = 50; X[0] = 0\n",
    "            for t in range(1, T):\n",
    "                if t <= i:\n",
    "                    X[t] = rho*X[t-1] + N[t]\n",
    "                    P[t] = P[t-1] + theta*B[t] + gamma*X[t] + E[t]\n",
    "                elif t > i:\n",
    "                    X[t] = rho*X[t-1]\n",
    "                    P[t] = P[t-1] + theta*B[t] + gamma*X[t]\n",
    "            B[i:] -= eta*P[i:]/(np.sqrt(G[i:]) + 0.125)\n",
    "            B[i:][B[i:] < 0] = 0\n",
    "            B[i:] = B[i:]/sum(B[i:])*(100000-np.sum(B[:i]))\n",
    "            res[j] = la.norm(P)\n",
    "            print(\"Iter: {0:4d}, \".format(j), \"Error: {0:6.3e}\".format(res[j]))\n",
    "            if res[j] <= tol:\n",
    "                break\n",
    "            else:\n",
    "                G[i:] += P[i:]**2\n",
    "    return B"
   ]
  },
  {
   "cell_type": "code",
   "execution_count": null,
   "metadata": {},
   "outputs": [],
   "source": [
    "# Initializing B with Constraint sum(B) = 100,000\n",
    "T = 21\n",
    "initial_B = np.insert(rv/np.sum(rv)*100000, 0, 0)\n",
    "# ADA_grad\n",
    "optimal_B_AdaGrad = AdaGrad_SGD(initial_B)\n",
    "AdaGrad_results = results(optimal_B_AdaGrad)"
   ]
  },
  {
   "cell_type": "code",
   "execution_count": null,
   "metadata": {},
   "outputs": [],
   "source": [
    "print(\"AdaGrad Strategy\")\n",
    "print(\"Strategy Execution Costs\", AdaGrad_results[2])\n",
    "print(\"Excess Cost per Share\", (AdaGrad_results[2] - Optimum_results[2])/100000 )\n",
    "print(\"Increase in Standard Deviation per Share\", np.std(AdaGrad_results[0]-Optimum_results[0])/20)"
   ]
  },
  {
   "cell_type": "markdown",
   "metadata": {},
   "source": [
    "RMSprop SGD"
   ]
  },
  {
   "cell_type": "code",
   "execution_count": null,
   "metadata": {},
   "outputs": [],
   "source": [
    "def RMSprop_SGD(B, learning_rate=0.025, beta1=0.98, num_iterations=10000, tol=1e-5):\n",
    "    for i in range(1, T):\n",
    "        eta = learning_rate\n",
    "        G = np.zeros_like(B)\n",
    "        res = np.zeros(num_iterations)\n",
    "        for j in range(0, num_iterations):\n",
    "            P = np.zeros(T); X = np.zeros(T)\n",
    "            P[0] = 50; X[0] = 0\n",
    "            for t in range(1, T):\n",
    "                if t <= i:\n",
    "                    X[t] = rho*X[t-1] + N[t]\n",
    "                    P[t] = P[t-1] + theta*B[t] + gamma*X[t] + E[t]\n",
    "                elif t > i:\n",
    "                    X[t] = rho*X[t-1]\n",
    "                    P[t] = P[t-1] + theta*B[t] + gamma*X[t]\n",
    "            G[i:] = beta1*G[i:] + (1-beta1)*P[i:]**2\n",
    "            B[i:] -= eta*P[i:]/(np.sqrt(G[i:]) + 0.125)\n",
    "            B[i:][B[i:] < 0] = 0\n",
    "            B[i:] = B[i:]/sum(B[i:])*(100000-np.sum(B[:i]))\n",
    "            res[j] = la.norm(P)\n",
    "            print(\"Iter: {0:4d}, \".format(j), \"Error: {0:6.3e}\".format(res[j]))\n",
    "            if res[j] <= tol:\n",
    "                break\n",
    "    return B"
   ]
  },
  {
   "cell_type": "code",
   "execution_count": null,
   "metadata": {},
   "outputs": [],
   "source": [
    "# Initializing B with Constraint sum(B) = 100,000\n",
    "T = 21\n",
    "initial_B = np.insert(rv/np.sum(rv)*100000, 0, 0)\n",
    "# ADA_grad\n",
    "optimal_B_RMSprop = RMSprop_SGD(initial_B)\n",
    "RMSprop_results = results(optimal_B_RMSprop)"
   ]
  },
  {
   "cell_type": "code",
   "execution_count": null,
   "metadata": {},
   "outputs": [],
   "source": [
    "print(\"RMSprop Strategy\")\n",
    "print(\"Strategy Execution Costs\", RMSprop_results[2])\n",
    "print(\"Excess Cost per Share\", (RMSprop_results[2] - Optimum_results[2])/100000)\n",
    "print(\"Increase in Standard Deviation per Share\", np.std(RMSprop_results[0]-Optimum_results[0])/20)"
   ]
  },
  {
   "cell_type": "markdown",
   "metadata": {},
   "source": [
    "Adam SGD"
   ]
  },
  {
   "cell_type": "code",
   "execution_count": null,
   "metadata": {},
   "outputs": [],
   "source": [
    "def Adam_SGD(B, learning_rate=0.025, beta1=0.98, beta2=0.99, num_iterations=10000, tol=1e-5):\n",
    "    for i in range(1, T):\n",
    "        eta = learning_rate\n",
    "        m = np.zeros_like(B)\n",
    "        v = np.zeros_like(B)\n",
    "        res = np.zeros(num_iterations)\n",
    "        for j in range(0, num_iterations):\n",
    "            P = np.zeros(T); X = np.zeros(T)\n",
    "            P[0] = 50; X[0] = 0\n",
    "            for t in range(1, T):\n",
    "                if t <= i:\n",
    "                    X[t] = rho*X[t-1] + N[t]\n",
    "                    P[t] = P[t-1] + theta*B[t] + gamma*X[t] + E[t]\n",
    "                elif t > i:\n",
    "                    X[t] = rho*X[t-1]\n",
    "                    P[t] = P[t-1] + theta*B[t] + gamma*X[t]\n",
    "            m[i:] = beta1*m[i:] + (1-beta1)*P[i:]\n",
    "            v[i:] = beta2*v[i:] + (1-beta2)*P[i:]**2\n",
    "            m_hat = m[i:]/(1 - beta1**(j+1))\n",
    "            v_hat = v[i:]/(1 - beta2**(j+1))\n",
    "            B[i:] -= eta*m_hat/(np.sqrt(v_hat) + 1e-8)\n",
    "            B[i:][B[i:] < 0] = 0\n",
    "            B[i:] = B[i:]/sum(B[i:])*(100000-np.sum(B[:i]))\n",
    "            res[j] = la.norm(P)\n",
    "            print(\"Iter: {0:4d}, \".format(j), \"Error: {0:6.3e}\".format(res[j]))\n",
    "            if res[j] <= tol:\n",
    "                break\n",
    "    return B"
   ]
  },
  {
   "cell_type": "code",
   "execution_count": null,
   "metadata": {},
   "outputs": [],
   "source": [
    "# Initializing B with Constraint sum(B) = 100,000\n",
    "T = 21\n",
    "initial_B = np.insert(rv/np.sum(rv)*100000, 0, 0)\n",
    "# Adam_SGD\n",
    "optimal_B_Adam = Adam_SGD(initial_B)\n",
    "Adam_results = results(optimal_B_Adam)"
   ]
  },
  {
   "cell_type": "code",
   "execution_count": null,
   "metadata": {},
   "outputs": [],
   "source": [
    "print(\"Adam Strategy\")\n",
    "print(\"Strategy Execution Costs\", Adam_results[2])\n",
    "print(\"Excess Cost per Share\", (Adam_results[2] - Optimum_results[2])/100000)\n",
    "print(\"Increase in Standard Deviation per Share\", np.std(Adam_results[0]-Optimum_results[0])/20)"
   ]
  },
  {
   "cell_type": "markdown",
   "metadata": {},
   "source": [
    "Custom SGD"
   ]
  },
  {
   "cell_type": "code",
   "execution_count": null,
   "metadata": {},
   "outputs": [],
   "source": [
    "def Custom_SGD(B, learning_rate=0.025, num_iterations=10000, tol=1e-5):\n",
    "    for i in range(1, T):\n",
    "        eta = learning_rate\n",
    "        iterations = num_iterations\n",
    "        res = np.zeros(iterations)\n",
    "        for j in range(0, iterations):\n",
    "            P = np.zeros(T); X = np.zeros(T)\n",
    "            P[0] = 50; X[0] = 0\n",
    "            for t in range(1, T):\n",
    "                if t <= i:\n",
    "                    X[t] = rho*X[t-1] + N[t]\n",
    "                    P[t] = P[t-1] + theta*B[t] + gamma*X[t] + E[t]\n",
    "                elif t > i:\n",
    "                    X[t] = rho*X[t-1]\n",
    "                    P[t] = P[t-1] + theta*B[t] + gamma*X[t]\n",
    "            B[i:] -= eta*P[i:]\n",
    "            B[i:][B[i:] < 0] = (100000-np.sum(B[:i]))/(T-i+1)\n",
    "            B[i:] = B[i:]/sum(B[i:])*(100000-np.sum(B[:i]))\n",
    "            res[j] = la.norm(P[i:])\n",
    "            print(\"Iter: {0:4d}, \".format(j), \"Error: {0:6.3e}\".format(res[j]))\n",
    "            if res[j] <= tol:\n",
    "                break\n",
    "            else:\n",
    "                if res[j] >= np.average(res[max(0,j-100):j+1], weights=np.arange(1, len(res[max(0,j-100):j+1])+1)):\n",
    "                    eta *= 0.5/num_iterations\n",
    "                    iterations *= 2/num_iterations\n",
    "                else:\n",
    "                    eta *= 2/num_iterations\n",
    "                    iterations *= 0.5/num_iterations\n",
    "    return B"
   ]
  },
  {
   "cell_type": "code",
   "execution_count": null,
   "metadata": {},
   "outputs": [],
   "source": [
    "# Initializing B with Constraint sum(B) = 100,000\n",
    "T = 21\n",
    "initial_B = np.insert(rv/np.sum(rv)*100000, 0, 0)\n",
    "# Custom SGD\n",
    "optimal_B_Custom = Custom_SGD(initial_B)\n",
    "Custom_results = results(optimal_B_Custom)"
   ]
  },
  {
   "cell_type": "code",
   "execution_count": null,
   "metadata": {},
   "outputs": [],
   "source": [
    "print(\"Custom Strategy\")\n",
    "print(\"Strategy Execution Costs\", Custom_results[2])\n",
    "print(\"Excess Cost per Share\", (Custom_results[2] - Optimum_results[2])/100000 )\n",
    "print(\"Increase in Standard Deviation per Period\", np.std(Custom_results[0]-Optimum_results[0])/20)"
   ]
  },
  {
   "cell_type": "markdown",
   "metadata": {},
   "source": [
    "Strategy Analysis"
   ]
  },
  {
   "cell_type": "code",
   "execution_count": null,
   "metadata": {},
   "outputs": [],
   "source": [
    "data = {'Execution Costs': [Optimum_results[2], Custom_results[2], AdaGrad_results[2], RMSprop_results[2], Adam_results[2]],\n",
    "        'Standard Deviation': [np.std(Optimum_results[0]), np.std(Custom_results[0]), np.std(AdaGrad_results[0]), np.std(RMSprop_results[0]), np.std(Adam_results[0])]}\n",
    "df = pd.DataFrame(data, index=['Optimum', 'Custom', 'AdaGrad', 'RMSprop', 'Adam'])\n",
    "df_sorted = df.sort_values(by='Execution Costs', ascending=True)\n",
    "df_sorted['Rank'] = range(1, len(df_sorted) + 1)\n",
    "print(df_sorted)"
   ]
  },
  {
   "cell_type": "code",
   "execution_count": null,
   "metadata": {},
   "outputs": [],
   "source": [
    "plt.plot(optimal_B_Custom, label='Custom_SGD Strategy', color='red', linestyle=':')\n",
    "plt.plot(optimal_B_AdaGrad, label='AdaGrad_SGD Strategy', color='orange', linestyle='--')\n",
    "plt.plot(optimal_B_RMSprop, label='RMSprop_SGD Strategy', color='purple', linestyle=':')\n",
    "plt.plot(optimal_B_Adam, label='Adam_SGD Strategy', color='blue', linestyle='--')\n",
    "plt.plot(optimal_B, label='Optimal Strategy', color='black')\n",
    "plt.legend()\n",
    "plt.xlim(1,20); plt.xticks(range(1, 21))\n",
    "plt.xlabel('Period')\n",
    "plt.ylabel('Shares Bought')"
   ]
  }
 ],
 "metadata": {
  "kernelspec": {
   "display_name": "Python 3",
   "language": "python",
   "name": "python3"
  },
  "language_info": {
   "codemirror_mode": {
    "name": "ipython",
    "version": 3
   },
   "file_extension": ".py",
   "mimetype": "text/x-python",
   "name": "python",
   "nbconvert_exporter": "python",
   "pygments_lexer": "ipython3",
   "version": "3.12.2"
  }
 },
 "nbformat": 4,
 "nbformat_minor": 2
}
